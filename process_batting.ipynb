{
  "nbformat": 4,
  "nbformat_minor": 0,
  "metadata": {
    "colab": {
      "provenance": [],
      "authorship_tag": "ABX9TyN0kYI/XM99RTfvdpc3LYMm",
      "include_colab_link": true
    },
    "kernelspec": {
      "name": "ir",
      "display_name": "R"
    },
    "language_info": {
      "name": "R"
    }
  },
  "cells": [
    {
      "cell_type": "markdown",
      "metadata": {
        "id": "view-in-github",
        "colab_type": "text"
      },
      "source": [
        "<a href=\"https://colab.research.google.com/github/TylerSchaack/my_site/blob/main/process_batting.ipynb\" target=\"_parent\"><img src=\"https://colab.research.google.com/assets/colab-badge.svg\" alt=\"Open In Colab\"/></a>"
      ]
    },
    {
      "cell_type": "code",
      "execution_count": 3,
      "metadata": {
        "id": "ctHFAjTajgSX"
      },
      "outputs": [],
      "source": [
        "library(tidyverse)"
      ]
    },
    {
      "cell_type": "code",
      "source": [
        "batting <- read.csv(https://raw.githubusercontent.com/TylerSchaack/my_site/refs/heads/main/Data/Batting.csv)\n",
        "batting %>% head"
      ],
      "metadata": {
        "colab": {
          "base_uri": "https://localhost:8080/",
          "height": 106
        },
        "id": "mUKJEED0j83o",
        "outputId": "ed40adc6-549e-459a-e013-992beded0d5d"
      },
      "execution_count": 5,
      "outputs": [
        {
          "output_type": "error",
          "ename": "ERROR",
          "evalue": "Error in parse(text = input): <text>:1:27: unexpected '/'\n1: batting <- read.csv(https:/\n                              ^\n",
          "traceback": [
            "Error in parse(text = input): <text>:1:27: unexpected '/'\n1: batting <- read.csv(https:/\n                              ^\nTraceback:\n"
          ]
        }
      ]
    }
  ]
}